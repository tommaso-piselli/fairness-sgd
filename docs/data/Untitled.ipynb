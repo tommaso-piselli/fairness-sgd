{
 "cells": [
  {
   "cell_type": "code",
   "execution_count": 1,
   "metadata": {},
   "outputs": [],
   "source": [
    "from natsort import natsorted\n",
    "\n",
    "## sys\n",
    "import random\n",
    "import time\n",
    "from glob import glob\n",
    "import json\n",
    "from pathlib import Path\n",
    "import os\n",
    "\n",
    "## numeric\n",
    "import numpy as np\n",
    "import torch\n",
    "from torch import nn, optim\n",
    "import torch.nn.functional as F\n",
    "\n",
    "## vis\n",
    "import networkx as nx\n",
    "import matplotlib.pyplot as plt\n",
    "import matplotlib.animation as animation\n",
    "from matplotlib.colors import LinearSegmentedColormap\n",
    "from mpl_toolkits import mplot3d\n",
    "from matplotlib import collections  as mc\n",
    "from mpl_toolkits.mplot3d.art3d import Line3DCollection\n",
    "\n",
    "## notebook\n",
    "from IPython import display\n",
    "from tqdm import tqdm_notebook as tqdm\n",
    "\n",
    "device = torch.device('cuda') if torch.cuda.is_available() else torch.device('cpu')\n",
    "\n",
    "plt.style.use('ggplot')\n",
    "plt.style.use('seaborn-colorblind')\n",
    "\n",
    "\n",
    "\n",
    "def dict2tensor(d, fill=None):\n",
    "    n = len(d.keys())\n",
    "    k2i = {k:i for i,k in enumerate(natsorted(d.keys()))}\n",
    "    res = torch.zeros(len(d.keys()), len(d.keys()), device=device)\n",
    "    for src_node, dst_nodes in d.items():\n",
    "        for dst_node, distance in dst_nodes.items():\n",
    "            if fill is not None:\n",
    "                res[k2i[src_node],k2i[dst_node]] = fill\n",
    "            else:\n",
    "                res[k2i[src_node],k2i[dst_node]] = distance\n",
    "    return res, k2i\n",
    "\n",
    "\n",
    "def graph2json(graph, D, W, initPositions):\n",
    "    res = {k:v for k,v in graph.items()}\n",
    "    res['nodes'] = [\n",
    "        {\n",
    "            'index':i, \n",
    "            'id': node['id'],\n",
    "            'x': initPositions[i]['x'],\n",
    "            'y': initPositions[i]['y'],\n",
    "        } \n",
    "        for i, node in enumerate(graph['nodes'])]\n",
    "    res['weight'] = W.cpu().numpy().tolist()\n",
    "    res['graphDistance'] = D.cpu().numpy().tolist()\n",
    "    return res"
   ]
  },
  {
   "cell_type": "code",
   "execution_count": 2,
   "metadata": {},
   "outputs": [
    {
     "data": {
      "text/plain": [
       "['contest-0/automatic-1.txt',\n",
       " 'contest-0/automatic-2.txt',\n",
       " 'contest-0/automatic-3.txt',\n",
       " 'contest-0/automatic-4.txt',\n",
       " 'contest-0/automatic-5.txt',\n",
       " 'contest-0/automatic-6.txt',\n",
       " 'contest-0/automatic-7.txt',\n",
       " 'contest-0/automatic-8.txt',\n",
       " 'contest-0/automatic-9.txt',\n",
       " 'contest-0/automatic-10.txt',\n",
       " 'contest-0/automatic-12.txt',\n",
       " 'contest-0/automatic-13.txt']"
      ]
     },
     "execution_count": 2,
     "metadata": {},
     "output_type": "execute_result"
    }
   ],
   "source": [
    "fns = natsorted(\n",
    "#     glob('contest-prep-0/*.json')\n",
    "#     + glob('contest-prep-0/*.txt')\n",
    "    glob('contest-0/*.json')\n",
    "    + glob('contest-0/*.txt')\n",
    ")\n",
    "fns"
   ]
  },
  {
   "cell_type": "code",
   "execution_count": 3,
   "metadata": {},
   "outputs": [
    {
     "name": "stdout",
     "output_type": "stream",
     "text": [
      "<option value='automatic-1'>automatic-1</option>\n",
      "<option value='automatic-2'>automatic-2</option>\n",
      "<option value='automatic-3'>automatic-3</option>\n",
      "<option value='automatic-4'>automatic-4</option>\n",
      "<option value='automatic-5'>automatic-5</option>\n",
      "<option value='automatic-6'>automatic-6</option>\n",
      "<option value='automatic-7'>automatic-7</option>\n",
      "<option value='automatic-8'>automatic-8</option>\n",
      "<option value='automatic-9'>automatic-9</option>\n",
      "<option value='automatic-10'>automatic-10</option>\n",
      "<option value='automatic-12'>automatic-12</option>\n",
      "<option value='automatic-13'>automatic-13</option>\n"
     ]
    }
   ],
   "source": [
    "for fn in fns:\n",
    "    graph_name = Path(fn).name.split('.')[0]\n",
    "    print(f\"<option value='{graph_name}'>{graph_name}</option>\")"
   ]
  },
  {
   "cell_type": "code",
   "execution_count": null,
   "metadata": {},
   "outputs": [],
   "source": []
  }
 ],
 "metadata": {
  "kernelspec": {
   "display_name": "Python 3",
   "language": "python",
   "name": "python3"
  },
  "language_info": {
   "codemirror_mode": {
    "name": "ipython",
    "version": 3
   },
   "file_extension": ".py",
   "mimetype": "text/x-python",
   "name": "python",
   "nbconvert_exporter": "python",
   "pygments_lexer": "ipython3",
   "version": "3.8.2"
  }
 },
 "nbformat": 4,
 "nbformat_minor": 4
}
